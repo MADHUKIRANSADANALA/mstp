{
 "cells": [
  {
   "cell_type": "markdown",
   "metadata": {},
   "source": [
    "create function to check given data valid or not for given pattern\n",
    "1.create function for mobile number validator\n",
    "2.create function for person name validator\n",
    "3.create function to check given data valid or not for given pattern "
   ]
  },
  {
   "cell_type": "code",
   "execution_count": null,
   "metadata": {},
   "outputs": [],
   "source": [
    "import re"
   ]
  },
  {
   "cell_type": "code",
   "execution_count": 1,
   "metadata": {},
   "outputs": [
    {
     "name": "stdout",
     "output_type": "stream",
     "text": [
      "Valid Number\n"
     ]
    }
   ],
   "source": [
    "import re \n",
    "def isvalid(s):\n",
    "    Pattern = re.compile(\"[7-9][0-9]{9}\") \n",
    "    return Pattern.match(s)  \n",
    "s= \"9705931100\"\n",
    "if isvalid(s):  \n",
    "    print (\"Valid Number\")      \n",
    "else : \n",
    "    print (\"Invalid Number\")  "
   ]
  },
  {
   "cell_type": "code",
   "execution_count": null,
   "metadata": {},
   "outputs": [],
   "source": [
    "def isvalidperson(name):\n",
    "    if re.search('^[a-zA-Z]+[ .]{0,1}[a-zA-Z]$','sai'):\n",
    "        return true\n",
    "    else:\n",
    "        return false\n",
    "   "
   ]
  },
  {
   "cell_type": "markdown",
   "metadata": {},
   "source": [
    "#### 1.find the number of lines in books.txt file\n",
    "#### 2.print 3rd line in the file\n",
    "#### 3.print last character in 3rd line\n",
    "#### 4.create function to return the data of given line number\n",
    "#### 5.create function to find the number of characters in file\n",
    "#### 6.create function to count the occurance of the given character"
   ]
  },
  {
   "cell_type": "code",
   "execution_count": 4,
   "metadata": {},
   "outputs": [
    {
     "name": "stdout",
     "output_type": "stream",
     "text": [
      "3\n"
     ]
    }
   ],
   "source": [
    "count=0\n",
    "fh=open('book.txt','r')\n",
    "data=fh.read()\n",
    "for d in data:\n",
    "    if(d=='\\n'):\n",
    "        count=count+1\n",
    "fh.close()\n",
    "print(count)"
   ]
  },
  {
   "cell_type": "code",
   "execution_count": 3,
   "metadata": {},
   "outputs": [
    {
     "name": "stdout",
     "output_type": "stream",
     "text": [
      "line 3\n",
      "\n"
     ]
    }
   ],
   "source": [
    "i=1\n",
    "fh=open('book.txt','r')\n",
    "for line in fh:\n",
    "    if(i==3):\n",
    "        print(line)\n",
    "        i=i+1\n",
    "    else:\n",
    "        i=i+1\n",
    "fh.close()\n",
    "\n",
    "    \n"
   ]
  },
  {
   "cell_type": "code",
   "execution_count": 8,
   "metadata": {},
   "outputs": [
    {
     "name": "stdout",
     "output_type": "stream",
     "text": [
      "line 4\n"
     ]
    }
   ],
   "source": [
    "i=1\n",
    "fh=open('book.txt','r')\n",
    "for line in fh:\n",
    "    if(i==4):\n",
    "        print(line)\n",
    "        i=i+1\n",
    "    else:\n",
    "        i=i+1\n",
    "fh.close()\n",
    "\n",
    "    \n"
   ]
  },
  {
   "cell_type": "markdown",
   "metadata": {},
   "source": [
    "## 4"
   ]
  },
  {
   "cell_type": "code",
   "execution_count": 11,
   "metadata": {},
   "outputs": [
    {
     "name": "stdout",
     "output_type": "stream",
     "text": [
      "2\n",
      "line 2\n",
      "\n"
     ]
    }
   ],
   "source": [
    "\n",
    "\n",
    "def display(n):\n",
    "    f =  open('book.txt','r')\n",
    "    count=1\n",
    "    flag=0\n",
    "    for line in f:\n",
    "        if count==n:\n",
    "            print(line)\n",
    "            flag=1\n",
    "            break\n",
    "        count=count+1\n",
    "    if(flag==0):\n",
    "        print(\" Please enter valid number ... \")\n",
    "    f.close()\n",
    "    \n",
    "n=int(input())\n",
    "display(n)"
   ]
  },
  {
   "cell_type": "markdown",
   "metadata": {},
   "source": [
    "### 5"
   ]
  },
  {
   "cell_type": "code",
   "execution_count": 12,
   "metadata": {},
   "outputs": [
    {
     "name": "stdout",
     "output_type": "stream",
     "text": [
      "16\n"
     ]
    }
   ],
   "source": [
    "def countChar():\n",
    "    f =  open('book.txt','r')\n",
    "    count=0\n",
    "    for line in f:\n",
    "        for i in line:\n",
    "            if(i.isalpha()):\n",
    "                count=count+1\n",
    "    print(count)\n",
    "    f.close()\n",
    "\n",
    "countChar()"
   ]
  },
  {
   "cell_type": "markdown",
   "metadata": {},
   "source": [
    "#### 6"
   ]
  },
  {
   "cell_type": "code",
   "execution_count": null,
   "metadata": {},
   "outputs": [],
   "source": [
    "def countChar():\n",
    "    f =  open('book.txt','r')\n",
    "    count=0\n",
    "    for line in f:\n",
    "        for i in line:\n",
    "            if(i.isalpha()):\n",
    "                count=count+1\n",
    "    print(count)\n",
    "    f.close()\n",
    "countChar()\n"
   ]
  }
 ],
 "metadata": {
  "kernelspec": {
   "display_name": "Python 3",
   "language": "python",
   "name": "python3"
  },
  "language_info": {
   "codemirror_mode": {
    "name": "ipython",
    "version": 3
   },
   "file_extension": ".py",
   "mimetype": "text/x-python",
   "name": "python",
   "nbconvert_exporter": "python",
   "pygments_lexer": "ipython3",
   "version": "3.7.3"
  }
 },
 "nbformat": 4,
 "nbformat_minor": 2
}

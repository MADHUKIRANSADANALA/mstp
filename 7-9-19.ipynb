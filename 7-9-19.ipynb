{
 "cells": [
  {
   "cell_type": "markdown",
   "metadata": {},
   "source": [
    "### modules and packages in python"
   ]
  },
  {
   "cell_type": "markdown",
   "metadata": {},
   "source": [
    "#### A python file contains functions and python satements is called modules"
   ]
  },
  {
   "cell_type": "code",
   "execution_count": 1,
   "metadata": {},
   "outputs": [],
   "source": [
    "import mymodule"
   ]
  },
  {
   "cell_type": "code",
   "execution_count": 3,
   "metadata": {},
   "outputs": [
    {
     "data": {
      "text/plain": [
       "'welcome ayyappahave a nice day'"
      ]
     },
     "execution_count": 3,
     "metadata": {},
     "output_type": "execute_result"
    }
   ],
   "source": [
    "mymodule.welcome(' ayyappa')"
   ]
  },
  {
   "cell_type": "markdown",
   "metadata": {},
   "source": [
    "### packeges"
   ]
  },
  {
   "cell_type": "code",
   "execution_count": 4,
   "metadata": {},
   "outputs": [],
   "source": [
    "import game.start as mygame\n"
   ]
  },
  {
   "cell_type": "code",
   "execution_count": 5,
   "metadata": {},
   "outputs": [
    {
     "data": {
      "text/plain": [
       "'welcome sai ram'"
      ]
     },
     "execution_count": 5,
     "metadata": {},
     "output_type": "execute_result"
    }
   ],
   "source": [
    "mygame.user('sai ram')"
   ]
  },
  {
   "cell_type": "code",
   "execution_count": 6,
   "metadata": {},
   "outputs": [
    {
     "data": {
      "text/plain": [
       "'thank you for playing(*_*)'"
      ]
     },
     "execution_count": 6,
     "metadata": {},
     "output_type": "execute_result"
    }
   ],
   "source": [
    "mygame.end()"
   ]
  },
  {
   "cell_type": "markdown",
   "metadata": {},
   "source": [
    "### working with os module"
   ]
  },
  {
   "cell_type": "code",
   "execution_count": 11,
   "metadata": {},
   "outputs": [],
   "source": [
    "import os"
   ]
  },
  {
   "cell_type": "markdown",
   "metadata": {},
   "source": [
    "### getcwd()"
   ]
  },
  {
   "cell_type": "code",
   "execution_count": 13,
   "metadata": {},
   "outputs": [
    {
     "data": {
      "text/plain": [
       "'C:\\\\Users\\\\pc20\\\\17EM5A0412'"
      ]
     },
     "execution_count": 13,
     "metadata": {},
     "output_type": "execute_result"
    }
   ],
   "source": [
    "os.getcwd()"
   ]
  },
  {
   "cell_type": "markdown",
   "metadata": {},
   "source": [
    "#### listdir()"
   ]
  },
  {
   "cell_type": "code",
   "execution_count": 14,
   "metadata": {},
   "outputs": [
    {
     "data": {
      "text/plain": [
       "['.ipynb_checkpoints',\n",
       " '03-09-19.ipynb',\n",
       " '04-09-19.ipynb',\n",
       " '26-08-19.ipynb',\n",
       " '27-08-19.ipynb',\n",
       " '28-08-19',\n",
       " '30-08-19.ipynb',\n",
       " '5-9-19.ipynb',\n",
       " '7-9-19.ipynb',\n",
       " 'book.txt',\n",
       " 'game',\n",
       " 'mymodule.py',\n",
       " 'notes.txt',\n",
       " 'tasks(5-9-19).ipynb',\n",
       " 'TASKS.ipynb',\n",
       " 'Untitled.ipynb',\n",
       " '__pycache__']"
      ]
     },
     "execution_count": 14,
     "metadata": {},
     "output_type": "execute_result"
    }
   ],
   "source": [
    "os.listdir()"
   ]
  },
  {
   "cell_type": "markdown",
   "metadata": {},
   "source": [
    "### rename(oldname,newname)"
   ]
  },
  {
   "cell_type": "code",
   "execution_count": 13,
   "metadata": {},
   "outputs": [],
   "source": [
    "os.rename('report.txt','newreport.txt')"
   ]
  },
  {
   "cell_type": "markdown",
   "metadata": {},
   "source": [
    "#### rename all the files in the current directory by adding numbers to starting of every file"
   ]
  },
  {
   "cell_type": "code",
   "execution_count": 12,
   "metadata": {},
   "outputs": [
    {
     "name": "stdout",
     "output_type": "stream",
     "text": [
      "after ['.ipynb_checkpoints', '03-09-19.ipynb', '04-09-19.ipynb', '26-08-19.ipynb', '27-08-19.ipynb', '28-08-19', '30-08-19.ipynb', '5-9-19.ipynb', '7-9-19.ipynb', 'book.txt', 'game', 'mymodule.py', 'notes.txt', 'report.txt', 'tasks(5-9-19).ipynb', 'TASKS.ipynb', 'Untitled.ipynb', '__pycache__']\n",
      "after ['.ipynb_checkpoints', '03-09-19.ipynb', '04-09-19.ipynb', '26-08-19.ipynb', '27-08-19.ipynb', '28-08-19', '30-08-19.ipynb', '5-9-19.ipynb', '7-9-19.ipynb', 'book.txt', 'game', 'mymodule.py', 'notes.txt', 'report.txt', 'tasks(5-9-19).ipynb', 'TASKS.ipynb', 'Untitled.ipynb', '__pycache__']\n",
      "after ['.ipynb_checkpoints', '03-09-19.ipynb', '04-09-19.ipynb', '26-08-19.ipynb', '27-08-19.ipynb', '28-08-19', '30-08-19.ipynb', '5-9-19.ipynb', '7-9-19.ipynb', 'book.txt', 'game', 'mymodule.py', 'notes.txt', 'report.txt', 'tasks(5-9-19).ipynb', 'TASKS.ipynb', 'Untitled.ipynb', '__pycache__']\n",
      "after ['.ipynb_checkpoints', '03-09-19.ipynb', '04-09-19.ipynb', '26-08-19.ipynb', '27-08-19.ipynb', '28-08-19', '30-08-19.ipynb', '5-9-19.ipynb', '7-9-19.ipynb', 'book.txt', 'game', 'mymodule.py', 'notes.txt', 'report.txt', 'tasks(5-9-19).ipynb', 'TASKS.ipynb', 'Untitled.ipynb', '__pycache__']\n",
      "after ['.ipynb_checkpoints', '03-09-19.ipynb', '04-09-19.ipynb', '26-08-19.ipynb', '27-08-19.ipynb', '28-08-19', '30-08-19.ipynb', '5-9-19.ipynb', '7-9-19.ipynb', 'book.txt', 'game', 'mymodule.py', 'notes.txt', 'report.txt', 'tasks(5-9-19).ipynb', 'TASKS.ipynb', 'Untitled.ipynb', '__pycache__']\n",
      "after ['.ipynb_checkpoints', '03-09-19.ipynb', '04-09-19.ipynb', '26-08-19.ipynb', '27-08-19.ipynb', '28-08-19', '30-08-19.ipynb', '5-9-19.ipynb', '7-9-19.ipynb', 'book.txt', 'game', 'mymodule.py', 'notes.txt', 'report.txt', 'tasks(5-9-19).ipynb', 'TASKS.ipynb', 'Untitled.ipynb', '__pycache__']\n",
      "after ['.ipynb_checkpoints', '03-09-19.ipynb', '04-09-19.ipynb', '26-08-19.ipynb', '27-08-19.ipynb', '28-08-19', '30-08-19.ipynb', '5-9-19.ipynb', '7-9-19.ipynb', 'book.txt', 'game', 'mymodule.py', 'notes.txt', 'report.txt', 'tasks(5-9-19).ipynb', 'TASKS.ipynb', 'Untitled.ipynb', '__pycache__']\n",
      "after ['.ipynb_checkpoints', '03-09-19.ipynb', '04-09-19.ipynb', '26-08-19.ipynb', '27-08-19.ipynb', '28-08-19', '30-08-19.ipynb', '5-9-19.ipynb', '7-9-19.ipynb', 'book.txt', 'game', 'mymodule.py', 'notes.txt', 'report.txt', 'tasks(5-9-19).ipynb', 'TASKS.ipynb', 'Untitled.ipynb', '__pycache__']\n",
      "after ['.ipynb_checkpoints', '03-09-19.ipynb', '04-09-19.ipynb', '26-08-19.ipynb', '27-08-19.ipynb', '28-08-19', '30-08-19.ipynb', '5-9-19.ipynb', '7-9-19.ipynb', 'book.txt', 'game', 'mymodule.py', 'notes.txt', 'report.txt', 'tasks(5-9-19).ipynb', 'TASKS.ipynb', 'Untitled.ipynb', '__pycache__']\n",
      "after ['.ipynb_checkpoints', '03-09-19.ipynb', '04-09-19.ipynb', '26-08-19.ipynb', '27-08-19.ipynb', '28-08-19', '30-08-19.ipynb', '5-9-19.ipynb', '7-9-19.ipynb', 'book.txt', 'game', 'mymodule.py', 'notes.txt', 'report.txt', 'tasks(5-9-19).ipynb', 'TASKS.ipynb', 'Untitled.ipynb', '__pycache__']\n",
      "after ['.ipynb_checkpoints', '03-09-19.ipynb', '04-09-19.ipynb', '26-08-19.ipynb', '27-08-19.ipynb', '28-08-19', '30-08-19.ipynb', '5-9-19.ipynb', '7-9-19.ipynb', 'book.txt', 'game', 'mymodule.py', 'notes.txt', 'report.txt', 'tasks(5-9-19).ipynb', 'TASKS.ipynb', 'Untitled.ipynb', '__pycache__']\n",
      "after ['.ipynb_checkpoints', '03-09-19.ipynb', '04-09-19.ipynb', '26-08-19.ipynb', '27-08-19.ipynb', '28-08-19', '30-08-19.ipynb', '5-9-19.ipynb', '7-9-19.ipynb', 'book.txt', 'game', 'mymodule.py', 'notes.txt', 'report.txt', 'tasks(5-9-19).ipynb', 'TASKS.ipynb', 'Untitled.ipynb', '__pycache__']\n",
      "after ['.ipynb_checkpoints', '03-09-19.ipynb', '04-09-19.ipynb', '26-08-19.ipynb', '27-08-19.ipynb', '28-08-19', '30-08-19.ipynb', '5-9-19.ipynb', '7-9-19.ipynb', 'book.txt', 'game', 'mymodule.py', 'notes.txt', 'report.txt', 'tasks(5-9-19).ipynb', 'TASKS.ipynb', 'Untitled.ipynb', '__pycache__']\n",
      "after ['.ipynb_checkpoints', '03-09-19.ipynb', '04-09-19.ipynb', '26-08-19.ipynb', '27-08-19.ipynb', '28-08-19', '30-08-19.ipynb', '5-9-19.ipynb', '7-9-19.ipynb', 'book.txt', 'game', 'mymodule.py', 'notes.txt', 'report.txt', 'tasks(5-9-19).ipynb', 'TASKS.ipynb', 'Untitled.ipynb', '__pycache__']\n",
      "after ['.ipynb_checkpoints', '03-09-19.ipynb', '04-09-19.ipynb', '26-08-19.ipynb', '27-08-19.ipynb', '28-08-19', '30-08-19.ipynb', '5-9-19.ipynb', '7-9-19.ipynb', 'book.txt', 'game', 'mymodule.py', 'notes.txt', 'report.txt', 'tasks(5-9-19).ipynb', 'TASKS.ipynb', 'Untitled.ipynb', '__pycache__']\n",
      "after ['.ipynb_checkpoints', '03-09-19.ipynb', '04-09-19.ipynb', '26-08-19.ipynb', '27-08-19.ipynb', '28-08-19', '30-08-19.ipynb', '5-9-19.ipynb', '7-9-19.ipynb', 'book.txt', 'game', 'mymodule.py', 'notes.txt', 'report.txt', 'tasks(5-9-19).ipynb', 'TASKS.ipynb', 'Untitled.ipynb', '__pycache__']\n",
      "after ['.ipynb_checkpoints', '03-09-19.ipynb', '04-09-19.ipynb', '26-08-19.ipynb', '27-08-19.ipynb', '28-08-19', '30-08-19.ipynb', '5-9-19.ipynb', '7-9-19.ipynb', 'book.txt', 'game', 'mymodule.py', 'notes.txt', 'report.txt', 'tasks(5-9-19).ipynb', 'TASKS.ipynb', 'Untitled.ipynb', '__pycache__']\n",
      "after ['.ipynb_checkpoints', '03-09-19.ipynb', '04-09-19.ipynb', '26-08-19.ipynb', '27-08-19.ipynb', '28-08-19', '30-08-19.ipynb', '5-9-19.ipynb', '7-9-19.ipynb', 'book.txt', 'game', 'mymodule.py', 'notes.txt', 'report.txt', 'tasks(5-9-19).ipynb', 'TASKS.ipynb', 'Untitled.ipynb', '__pycache__']\n"
     ]
    }
   ],
   "source": [
    "count =1\n",
    "for oldName in os.listdir():\n",
    "    newName = str(count) + oldName\n",
    "    count +=1\n",
    "    print('after',os.listdir())"
   ]
  },
  {
   "cell_type": "markdown",
   "metadata": {},
   "source": [
    "### remove file using python\n",
    "     warning never delete important files\n",
    "     "
   ]
  },
  {
   "cell_type": "markdown",
   "metadata": {},
   "source": [
    "#### remove(filename)"
   ]
  },
  {
   "cell_type": "code",
   "execution_count": 1,
   "metadata": {},
   "outputs": [],
   "source": [
    "import os"
   ]
  },
  {
   "cell_type": "code",
   "execution_count": 16,
   "metadata": {},
   "outputs": [],
   "source": [
    "os.remove('madhu.txt')"
   ]
  },
  {
   "cell_type": "markdown",
   "metadata": {},
   "source": [
    "####  rmdir(directoryname)\n"
   ]
  },
  {
   "cell_type": "code",
   "execution_count": 5,
   "metadata": {},
   "outputs": [],
   "source": [
    "os.rmdir('m')"
   ]
  },
  {
   "cell_type": "markdown",
   "metadata": {},
   "source": [
    "#### to remove non empty directory"
   ]
  },
  {
   "cell_type": "code",
   "execution_count": 6,
   "metadata": {},
   "outputs": [
    {
     "ename": "NameError",
     "evalue": "name 'ditectory_string_name' is not defined",
     "output_type": "error",
     "traceback": [
      "\u001b[1;31m---------------------------------------------------------------------------\u001b[0m",
      "\u001b[1;31mNameError\u001b[0m                                 Traceback (most recent call last)",
      "\u001b[1;32m<ipython-input-6-f9e514c98deb>\u001b[0m in \u001b[0;36m<module>\u001b[1;34m\u001b[0m\n\u001b[0;32m      1\u001b[0m \u001b[1;32mimport\u001b[0m \u001b[0mshutil\u001b[0m\u001b[1;33m\u001b[0m\u001b[1;33m\u001b[0m\u001b[0m\n\u001b[1;32m----> 2\u001b[1;33m \u001b[0mshutil\u001b[0m\u001b[1;33m.\u001b[0m\u001b[0mrmtree\u001b[0m\u001b[1;33m(\u001b[0m\u001b[0mditectory_string_name\u001b[0m\u001b[1;33m)\u001b[0m\u001b[1;33m\u001b[0m\u001b[1;33m\u001b[0m\u001b[0m\n\u001b[0m",
      "\u001b[1;31mNameError\u001b[0m: name 'ditectory_string_name' is not defined"
     ]
    }
   ],
   "source": [
    "import shutil\n",
    "shutil.rmtree()"
   ]
  },
  {
   "cell_type": "markdown",
   "metadata": {},
   "source": [
    "#### remove a file in  other location"
   ]
  },
  {
   "cell_type": "code",
   "execution_count": 7,
   "metadata": {},
   "outputs": [
    {
     "ename": "FileNotFoundError",
     "evalue": "[WinError 2] The system cannot find the file specified: 'C:\\\\\\\\Users\\\\\\\\pc20\\\\\\\\17EM5A0412\\\\\\\\zzz'",
     "output_type": "error",
     "traceback": [
      "\u001b[1;31m---------------------------------------------------------------------------\u001b[0m",
      "\u001b[1;31mFileNotFoundError\u001b[0m                         Traceback (most recent call last)",
      "\u001b[1;32m<ipython-input-7-477222fb3001>\u001b[0m in \u001b[0;36m<module>\u001b[1;34m\u001b[0m\n\u001b[0;32m      1\u001b[0m \u001b[0mfileName\u001b[0m\u001b[1;33m=\u001b[0m\u001b[1;34mr'C:\\\\Users\\\\pc20\\\\17EM5A0412\\\\zzz'\u001b[0m\u001b[1;33m\u001b[0m\u001b[1;33m\u001b[0m\u001b[0m\n\u001b[1;32m----> 2\u001b[1;33m \u001b[0mos\u001b[0m\u001b[1;33m.\u001b[0m\u001b[0mremove\u001b[0m\u001b[1;33m(\u001b[0m\u001b[0mfileName\u001b[0m\u001b[1;33m)\u001b[0m\u001b[1;33m\u001b[0m\u001b[1;33m\u001b[0m\u001b[0m\n\u001b[0m",
      "\u001b[1;31mFileNotFoundError\u001b[0m: [WinError 2] The system cannot find the file specified: 'C:\\\\\\\\Users\\\\\\\\pc20\\\\\\\\17EM5A0412\\\\\\\\zzz'"
     ]
    }
   ],
   "source": [
    "fileName=r'C:\\\\Users\\\\pc20\\\\17EM5A0412\\\\zzz'\n",
    "os.remove(fileName)"
   ]
  },
  {
   "cell_type": "code",
   "execution_count": null,
   "metadata": {},
   "outputs": [],
   "source": []
  }
 ],
 "metadata": {
  "kernelspec": {
   "display_name": "Python 3",
   "language": "python",
   "name": "python3"
  },
  "language_info": {
   "codemirror_mode": {
    "name": "ipython",
    "version": 3
   },
   "file_extension": ".py",
   "mimetype": "text/x-python",
   "name": "python",
   "nbconvert_exporter": "python",
   "pygments_lexer": "ipython3",
   "version": "3.7.3"
  }
 },
 "nbformat": 4,
 "nbformat_minor": 2
}
